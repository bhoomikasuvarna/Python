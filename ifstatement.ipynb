{
 "cells": [
  {
   "cell_type": "code",
   "execution_count": 2,
   "id": "87eaa133",
   "metadata": {},
   "outputs": [
    {
     "name": "stdout",
     "output_type": "stream",
     "text": [
      "enter a number3\n",
      "it is odd\n"
     ]
    }
   ],
   "source": [
    "#print odd or even\n",
    "num=int(input(\"enter a number\"))\n",
    "if num%2==0:\n",
    "    print(\"number is even\")\n",
    "else:\n",
    "    print(\"it is odd\")"
   ]
  },
  {
   "cell_type": "code",
   "execution_count": null,
   "id": "1cfbec12",
   "metadata": {},
   "outputs": [],
   "source": [
    "# #Write a program that asks user to enter dishnames and print which country that cuisine belongs to else print know iea about thaqt cuisine\n",
    "indian=[\"samosa\",\"daal\",\"naan\"]\n",
    "chinese=[\"gobi\",\"noodles\",\"momos\",\"friedrice\",\"chicken lolipop\",\"manchow soup\"]\n",
    "italian=[\"pizza\",\"pasta\",\"risoto\"]\n",
    "while True:\n",
    "    dname=input(\"Enter the dish name:\")\n",
    "    if dname in indian:\n",
    "        print(\"it is a indian\")\n",
    "    elif dname in chinese:\n",
    "        print(\"it is a chinese\")\n",
    "    elif dname in italian:\n",
    "        print(\"it is a italian\")\n",
    "    \n",
    "    else:\n",
    "        print(\"know idea about that cuisine\")\n",
    "         "
   ]
  },
  {
   "cell_type": "code",
   "execution_count": 32,
   "id": "1033ebb9",
   "metadata": {},
   "outputs": [
    {
     "name": "stdout",
     "output_type": "stream",
     "text": [
      "enter the city name1 :bangalore\n",
      "enter the city name2lahore\n",
      "they dont belong to the same country\n"
     ]
    }
   ],
   "source": [
    "# #Write a program that asks user to enter two cities and it tells you if\n",
    "# they both are in same country or not. For example if I enter mumbai and chennai, \n",
    "# it will print \"Both cities are in India\" but if I enter mumbai and dhaka it should print \"They don't belong to same country\"\n",
    "\n",
    "india=[\"mumbai\",\"bangalore\",\"chennai\",\"delhi\"]\n",
    "pakistan=[\"lahore\",\"karachi\",\"islamabad\"]\n",
    "bangladesh=[\"dhaka\",\"khulna\",\"rangpur\"]\n",
    "user=input(\"enter the city name1 :\")\n",
    "user1=input(\"enter the city name2\")\n",
    "if  user1 in india and user in india:\n",
    "    print(\"both city are in india\")\n",
    "elif user in pakistan and user1 in pakistan:\n",
    "    print(\"both city are in pakistan\")\n",
    "elif user in bangladesh and user1 in bangladesh:\n",
    "    print(\"both city are in bangladesh\")\n",
    "        \n",
    "else:\n",
    "    print(\"they dont belong to the same country\")"
   ]
  },
  {
   "cell_type": "code",
   "execution_count": 46,
   "id": "c278850a",
   "metadata": {},
   "outputs": [
    {
     "name": "stdout",
     "output_type": "stream",
     "text": [
      "Enter a sugar level50\n",
      "Sugar is low.\n"
     ]
    }
   ],
   "source": [
    "# 2. Write a python program that can tell you if your sugar is normal or not. Normal fasting level sugar range is 80 to 100.\n",
    "#     1. Ask user to enter his fasting sugar level\n",
    "#     2. If it is below 80 to 100 range then print that sugar is low\n",
    "#     3. If it is above 100 then print that it is high otherwise print that it is normal\n",
    "\n",
    "sugar=int(input(\"Enter a sugar level\"))\n",
    "if sugar >= 80 and sugar <= 100:\n",
    "    print(\"Sugar is normal.\")\n",
    "elif sugar > 100:\n",
    "    print(\"Sugar is high.\")\n",
    "else:\n",
    "    print(\"Sugar is low.\")"
   ]
  },
  {
   "cell_type": "code",
   "execution_count": null,
   "id": "d4e14b6d",
   "metadata": {},
   "outputs": [],
   "source": []
  }
 ],
 "metadata": {
  "kernelspec": {
   "display_name": "Python 3 (ipykernel)",
   "language": "python",
   "name": "python3"
  },
  "language_info": {
   "codemirror_mode": {
    "name": "ipython",
    "version": 3
   },
   "file_extension": ".py",
   "mimetype": "text/x-python",
   "name": "python",
   "nbconvert_exporter": "python",
   "pygments_lexer": "ipython3",
   "version": "3.10.9"
  }
 },
 "nbformat": 4,
 "nbformat_minor": 5
}
