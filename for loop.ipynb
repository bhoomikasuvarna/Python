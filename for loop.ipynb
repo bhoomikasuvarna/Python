{
 "cells": [
  {
   "cell_type": "code",
   "execution_count": 6,
   "id": "343ad2b7",
   "metadata": {},
   "outputs": [
    {
     "name": "stdout",
     "output_type": "stream",
     "text": [
      "4\n"
     ]
    }
   ],
   "source": [
    "#After flipping a coin 10 times you got this result\n",
    "result = [\"heads\",\"tails\",\"tails\",\"heads\",\"tails\",\"heads\",\"heads\",\"tails\",\"tails\",\"tails\"]\n",
    "#Using for loop figure out how many times you got heads\n",
    "sum=0\n",
    "for i in result:\n",
    "    if i==\"heads\":\n",
    "        sum+=1\n",
    "print(sum)         \n",
    "        \n",
    "        \n"
   ]
  },
  {
   "cell_type": "code",
   "execution_count": 12,
   "id": "198a5062",
   "metadata": {},
   "outputs": [
    {
     "name": "stdout",
     "output_type": "stream",
     "text": [
      "1\n",
      "9\n",
      "25\n",
      "49\n",
      "81\n"
     ]
    }
   ],
   "source": [
    "# Print square of all numbers between 1 to 10 except even numbers\n",
    "for i in range(1,11):\n",
    "    if i % 2!= 0:\n",
    "        print(i*i)\n",
    "#another method..\n",
    "# for i in range(1,11):\n",
    "#     if i % 2 == 0:\n",
    "#         continue\n",
    "#     print(i*i)"
   ]
  },
  {
   "cell_type": "code",
   "execution_count": 14,
   "id": "613e8cad",
   "metadata": {},
   "outputs": [
    {
     "name": "stdout",
     "output_type": "stream",
     "text": [
      "Enter expense amount: 2500\n",
      "You spent 2500 in February\n"
     ]
    }
   ],
   "source": [
    "#  Your monthly expense list (from Jan to May) looks like this,\n",
    "# expense_list = [2340, 2500, 2100, 3100, 2980]\n",
    "# Write a program that asks you to enter an expense amount and program\n",
    "# should tell you in which month that expense occurred. If expense is not\n",
    "# found then it should print that as well.\n",
    "\n",
    "month_list = [\"January\", \"February\", \"March\", \"April\", \"May\"]\n",
    "expense_list = [2340, 2500, 2100, 3100, 2980]\n",
    "e = input(\"Enter expense amount: \")\n",
    "e = int(e)\n",
    "\n",
    "month = -1\n",
    "for i in range(len(expense_list)):\n",
    "    if e == expense_list[i]:\n",
    "        month = i\n",
    "        break\n",
    "\n",
    "if month != -1:\n",
    "    print(f'You spent {e} in {month_list[month]}')\n",
    "else:\n",
    "    print(f'You didn\\'t spend {e} in any month')"
   ]
  },
  {
   "cell_type": "code",
   "execution_count": 17,
   "id": "8175dc23",
   "metadata": {},
   "outputs": [
    {
     "name": "stdout",
     "output_type": "stream",
     "text": [
      "You ran 1 miles\n",
      "Are you tired? yes\n",
      "You didn't finish 5 km race but hey congrats anyways! You still ran 1 miles\n"
     ]
    }
   ],
   "source": [
    "#  Lets say you are running a 5 km race. Write a program that,\n",
    "#    1. Upon completing each 1 km asks you \"are you tired?\"\n",
    "#    2. If you reply \"yes\" then it should break and print \"you didn't finish the race\"\n",
    "#    3. If you reply \"no\" then it should continue and ask \"are you tired\" on every km\n",
    "#    4. If you finish all 5 km then it should print congratulations message\n",
    "\n",
    "for i in range(5):\n",
    "    print(f\"You ran {i+1} miles\") # i starts with zero hence adding 1\n",
    "    tired = input(\"Are you tired? \")\n",
    "    if tired == 'yes':\n",
    "        break\n",
    "\n",
    "if i == 4: # 4 because the index starts from 0\n",
    "    print(\"Hurray! You are a rock star! You just finished 5 km race!\")\n",
    "else:\n",
    "    print(f\"You didn't finish 5 km race but hey congrats anyways! You still ran {i+1} miles\")"
   ]
  },
  {
   "cell_type": "code",
   "execution_count": null,
   "id": "61a672bb",
   "metadata": {},
   "outputs": [],
   "source": []
  }
 ],
 "metadata": {
  "kernelspec": {
   "display_name": "Python 3 (ipykernel)",
   "language": "python",
   "name": "python3"
  },
  "language_info": {
   "codemirror_mode": {
    "name": "ipython",
    "version": 3
   },
   "file_extension": ".py",
   "mimetype": "text/x-python",
   "name": "python",
   "nbconvert_exporter": "python",
   "pygments_lexer": "ipython3",
   "version": "3.10.9"
  }
 },
 "nbformat": 4,
 "nbformat_minor": 5
}
