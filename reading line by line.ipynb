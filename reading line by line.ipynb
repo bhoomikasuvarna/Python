{
 "cells": [
  {
   "cell_type": "code",
   "execution_count": 6,
   "id": "3078ac1e",
   "metadata": {},
   "outputs": [
    {
     "name": "stdout",
     "output_type": "stream",
     "text": [
      "Baa, baa, black sheep\n",
      "\n",
      "Have you any wool?\n",
      "\n",
      "Yes sir, yes sir\n",
      "\n",
      "Three bags full.\n",
      "\n",
      "One for my master\n",
      "\n",
      "And one for the dame\n",
      "\n",
      "One for the little boy\n",
      "\n",
      "Who lives down the lane\n"
     ]
    }
   ],
   "source": [
    "f=open(\"para.txt\",\"r\")\n",
    "print(f.read())\n",
    "f.close()         "
   ]
  },
  {
   "cell_type": "code",
   "execution_count": 28,
   "id": "0ead8f58",
   "metadata": {},
   "outputs": [],
   "source": [
    "f=open(\"para.txt\",\"r\")\n",
    "f_out=open(\"para_word\",\"w\")\n",
    "for line in f:\n",
    "    tokens=line.split(\" \")\n",
    "    f_out.write(\"wordcount:\"+\" \"  + str(len(tokens)) +\" \" +line)\n",
    "f.close()  \n",
    "f_out.close()"
   ]
  },
  {
   "cell_type": "code",
   "execution_count": null,
   "id": "acbba3dd",
   "metadata": {},
   "outputs": [],
   "source": []
  }
 ],
 "metadata": {
  "kernelspec": {
   "display_name": "Python 3 (ipykernel)",
   "language": "python",
   "name": "python3"
  },
  "language_info": {
   "codemirror_mode": {
    "name": "ipython",
    "version": 3
   },
   "file_extension": ".py",
   "mimetype": "text/x-python",
   "name": "python",
   "nbconvert_exporter": "python",
   "pygments_lexer": "ipython3",
   "version": "3.10.9"
  }
 },
 "nbformat": 4,
 "nbformat_minor": 5
}
